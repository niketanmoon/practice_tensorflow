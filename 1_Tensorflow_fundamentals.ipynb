{
  "nbformat": 4,
  "nbformat_minor": 0,
  "metadata": {
    "colab": {
      "name": "1. Tensorflow fundamentals.ipynb",
      "provenance": []
    },
    "kernelspec": {
      "name": "python3",
      "display_name": "Python 3"
    },
    "language_info": {
      "name": "python"
    }
  },
  "cells": [
    {
      "cell_type": "markdown",
      "source": [
        "# This notebook covers about creating tensors using `constant()` and `Variable()` method. "
      ],
      "metadata": {
        "id": "hKEuxeL4qmHt"
      }
    },
    {
      "cell_type": "markdown",
      "source": [
        "# Introduction to Tensors"
      ],
      "metadata": {
        "id": "CmIuBICngGv3"
      }
    },
    {
      "cell_type": "code",
      "source": [
        " # importing tensorflow\n",
        " import tensorflow as tf"
      ],
      "metadata": {
        "id": "5EFmHFaagm1S"
      },
      "execution_count": 1,
      "outputs": []
    },
    {
      "cell_type": "code",
      "source": [
        "# getting the version\n",
        "tf.__version__"
      ],
      "metadata": {
        "colab": {
          "base_uri": "https://localhost:8080/",
          "height": 35
        },
        "id": "KG-8TN2PheJb",
        "outputId": "a0adc536-53d0-4806-f35d-5031ca729a60"
      },
      "execution_count": 2,
      "outputs": [
        {
          "output_type": "execute_result",
          "data": {
            "text/plain": [
              "'2.8.2'"
            ],
            "application/vnd.google.colaboratory.intrinsic+json": {
              "type": "string"
            }
          },
          "metadata": {},
          "execution_count": 2
        }
      ]
    },
    {
      "cell_type": "markdown",
      "source": [
        "## Creating tensors with tf.constant()"
      ],
      "metadata": {
        "id": "Dxn8RH6RhgKB"
      }
    },
    {
      "cell_type": "markdown",
      "source": [
        "### Create a scalar tensor"
      ],
      "metadata": {
        "id": "MZ2LN68Xi6Hb"
      }
    },
    {
      "cell_type": "code",
      "source": [
        "zero = tf.constant(20)\n",
        "print(zero)"
      ],
      "metadata": {
        "colab": {
          "base_uri": "https://localhost:8080/"
        },
        "id": "nqcwRl09i_p9",
        "outputId": "394511ee-703b-4abc-8ec8-b28bc2f6f7fa"
      },
      "execution_count": 3,
      "outputs": [
        {
          "output_type": "stream",
          "name": "stdout",
          "text": [
            "tf.Tensor(20, shape=(), dtype=int32)\n"
          ]
        }
      ]
    },
    {
      "cell_type": "code",
      "source": [
        "# Dimension of the tensor\n",
        "zero.ndim"
      ],
      "metadata": {
        "colab": {
          "base_uri": "https://localhost:8080/"
        },
        "id": "po8NsobSjK4h",
        "outputId": "ea39b9de-7552-4273-803e-5b9923363ca6"
      },
      "execution_count": 4,
      "outputs": [
        {
          "output_type": "execute_result",
          "data": {
            "text/plain": [
              "0"
            ]
          },
          "metadata": {},
          "execution_count": 4
        }
      ]
    },
    {
      "cell_type": "markdown",
      "source": [
        "### Create a vector tensor"
      ],
      "metadata": {
        "id": "3_QLDXgTjPOl"
      }
    },
    {
      "cell_type": "code",
      "source": [
        "one = tf.constant([10, 20, 25])\n",
        "print(one)"
      ],
      "metadata": {
        "colab": {
          "base_uri": "https://localhost:8080/"
        },
        "id": "Z-Hd1yHzjWn3",
        "outputId": "9fc9ff2c-ce39-4011-9dce-1e3d0ea14981"
      },
      "execution_count": 5,
      "outputs": [
        {
          "output_type": "stream",
          "name": "stdout",
          "text": [
            "tf.Tensor([10 20 25], shape=(3,), dtype=int32)\n"
          ]
        }
      ]
    },
    {
      "cell_type": "code",
      "source": [
        "# Dimension of tensor\n",
        "one.ndim"
      ],
      "metadata": {
        "colab": {
          "base_uri": "https://localhost:8080/"
        },
        "id": "xUe3Bflqjebh",
        "outputId": "65e04f59-be0b-41ca-eb24-1a596de52a57"
      },
      "execution_count": 6,
      "outputs": [
        {
          "output_type": "execute_result",
          "data": {
            "text/plain": [
              "1"
            ]
          },
          "metadata": {},
          "execution_count": 6
        }
      ]
    },
    {
      "cell_type": "markdown",
      "source": [
        "### Create a 2 dimensional tensor"
      ],
      "metadata": {
        "id": "ejlQQIO5jkoM"
      }
    },
    {
      "cell_type": "code",
      "source": [
        "two = tf.constant([\n",
        "    [10, 20],\n",
        "    [20, 30]\n",
        "])\n",
        "print(two)"
      ],
      "metadata": {
        "colab": {
          "base_uri": "https://localhost:8080/"
        },
        "id": "YaMqGSnDjyFq",
        "outputId": "ad84c00f-18ba-4529-c964-f2975000bc7b"
      },
      "execution_count": 7,
      "outputs": [
        {
          "output_type": "stream",
          "name": "stdout",
          "text": [
            "tf.Tensor(\n",
            "[[10 20]\n",
            " [20 30]], shape=(2, 2), dtype=int32)\n"
          ]
        }
      ]
    },
    {
      "cell_type": "code",
      "source": [
        "two.ndim"
      ],
      "metadata": {
        "colab": {
          "base_uri": "https://localhost:8080/"
        },
        "id": "UMI-G7XFj7BZ",
        "outputId": "14696a43-66aa-420e-f8a2-ffa52761cad2"
      },
      "execution_count": 8,
      "outputs": [
        {
          "output_type": "execute_result",
          "data": {
            "text/plain": [
              "2"
            ]
          },
          "metadata": {},
          "execution_count": 8
        }
      ]
    },
    {
      "cell_type": "markdown",
      "source": [
        "### Create a 3 dimensional tensor"
      ],
      "metadata": {
        "id": "4NGveizFj9Bm"
      }
    },
    {
      "cell_type": "code",
      "source": [
        "three = tf.constant([\n",
        "    [\n",
        "        [1, 2, 3],\n",
        "        [4, 5, 7]\n",
        "     ],\n",
        "     [\n",
        "         [10, 20, 30],\n",
        "      [40, 50, 60]\n",
        "     ]\n",
        "])\n",
        "print(three)"
      ],
      "metadata": {
        "colab": {
          "base_uri": "https://localhost:8080/"
        },
        "id": "giZwS9SxkB6J",
        "outputId": "5ff16146-c421-4428-b92f-2350ad2407be"
      },
      "execution_count": 9,
      "outputs": [
        {
          "output_type": "stream",
          "name": "stdout",
          "text": [
            "tf.Tensor(\n",
            "[[[ 1  2  3]\n",
            "  [ 4  5  7]]\n",
            "\n",
            " [[10 20 30]\n",
            "  [40 50 60]]], shape=(2, 2, 3), dtype=int32)\n"
          ]
        }
      ]
    },
    {
      "cell_type": "code",
      "source": [
        "three.ndim"
      ],
      "metadata": {
        "colab": {
          "base_uri": "https://localhost:8080/"
        },
        "id": "ASZjZ1eBkYdq",
        "outputId": "09a7e898-d3d4-40d9-ad50-ddebad4641a4"
      },
      "execution_count": 10,
      "outputs": [
        {
          "output_type": "execute_result",
          "data": {
            "text/plain": [
              "3"
            ]
          },
          "metadata": {},
          "execution_count": 10
        }
      ]
    },
    {
      "cell_type": "markdown",
      "source": [
        "## Creating tensors with tf.Variable()"
      ],
      "metadata": {
        "id": "pfwQ6dockm5u"
      }
    },
    {
      "cell_type": "markdown",
      "source": [
        "### Lets create the same tensors as above\n",
        "### Scalar"
      ],
      "metadata": {
        "id": "1o3ylrH6mV9-"
      }
    },
    {
      "cell_type": "code",
      "source": [
        "v_zero = tf.Variable(20)\n",
        "v_zero"
      ],
      "metadata": {
        "colab": {
          "base_uri": "https://localhost:8080/"
        },
        "id": "9Gpjcsw2mc45",
        "outputId": "c01f1a6c-1adf-4c04-cc45-15a184aa53b1"
      },
      "execution_count": 11,
      "outputs": [
        {
          "output_type": "execute_result",
          "data": {
            "text/plain": [
              "<tf.Variable 'Variable:0' shape=() dtype=int32, numpy=20>"
            ]
          },
          "metadata": {},
          "execution_count": 11
        }
      ]
    },
    {
      "cell_type": "code",
      "source": [
        "tf.rank(v_zero)"
      ],
      "metadata": {
        "colab": {
          "base_uri": "https://localhost:8080/"
        },
        "id": "X9_fyT_5mkXs",
        "outputId": "897bf8e9-2673-44c2-f483-ca8936de6685"
      },
      "execution_count": 20,
      "outputs": [
        {
          "output_type": "execute_result",
          "data": {
            "text/plain": [
              "<tf.Tensor: shape=(), dtype=int32, numpy=0>"
            ]
          },
          "metadata": {},
          "execution_count": 20
        }
      ]
    },
    {
      "cell_type": "markdown",
      "source": [
        "### Vector"
      ],
      "metadata": {
        "id": "o_QkuweBn5Un"
      }
    },
    {
      "cell_type": "code",
      "source": [
        "v_one = tf.Variable([10, 20, 25])\n",
        "v_one"
      ],
      "metadata": {
        "colab": {
          "base_uri": "https://localhost:8080/"
        },
        "id": "ubR5qrMJmngD",
        "outputId": "f742fa1c-34a1-47ac-e6ee-622a70eeca40"
      },
      "execution_count": 21,
      "outputs": [
        {
          "output_type": "execute_result",
          "data": {
            "text/plain": [
              "<tf.Variable 'Variable:0' shape=(3,) dtype=int32, numpy=array([10, 20, 25], dtype=int32)>"
            ]
          },
          "metadata": {},
          "execution_count": 21
        }
      ]
    },
    {
      "cell_type": "code",
      "source": [
        "tf.rank(v_one)"
      ],
      "metadata": {
        "colab": {
          "base_uri": "https://localhost:8080/"
        },
        "id": "_JnyGIrToF0f",
        "outputId": "b3b2811b-8da7-4474-e3d3-29344f0469fa"
      },
      "execution_count": 22,
      "outputs": [
        {
          "output_type": "execute_result",
          "data": {
            "text/plain": [
              "<tf.Tensor: shape=(), dtype=int32, numpy=1>"
            ]
          },
          "metadata": {},
          "execution_count": 22
        }
      ]
    },
    {
      "cell_type": "markdown",
      "source": [
        "### 2 Dimensional Tensor"
      ],
      "metadata": {
        "id": "mXoCW39YoLWP"
      }
    },
    {
      "cell_type": "code",
      "source": [
        "v_two = tf.Variable([\n",
        "    [10, 20],\n",
        "    [20, 30]\n",
        "])\n",
        "v_two"
      ],
      "metadata": {
        "colab": {
          "base_uri": "https://localhost:8080/"
        },
        "id": "NrQe7_i5oIdD",
        "outputId": "cc8ae21a-0bb7-4016-b47f-5754b02e12d5"
      },
      "execution_count": 23,
      "outputs": [
        {
          "output_type": "execute_result",
          "data": {
            "text/plain": [
              "<tf.Variable 'Variable:0' shape=(2, 2) dtype=int32, numpy=\n",
              "array([[10, 20],\n",
              "       [20, 30]], dtype=int32)>"
            ]
          },
          "metadata": {},
          "execution_count": 23
        }
      ]
    },
    {
      "cell_type": "code",
      "source": [
        "tf.rank(v_two)"
      ],
      "metadata": {
        "colab": {
          "base_uri": "https://localhost:8080/"
        },
        "id": "V58Kz4U7oZAF",
        "outputId": "6389b26d-8ad3-43f4-adef-aa33957fa997"
      },
      "execution_count": 24,
      "outputs": [
        {
          "output_type": "execute_result",
          "data": {
            "text/plain": [
              "<tf.Tensor: shape=(), dtype=int32, numpy=2>"
            ]
          },
          "metadata": {},
          "execution_count": 24
        }
      ]
    },
    {
      "cell_type": "markdown",
      "source": [
        "### 3 Dimensional Tensor"
      ],
      "metadata": {
        "id": "KF6TOs_7oeZ5"
      }
    },
    {
      "cell_type": "code",
      "source": [
        "v_three = tf.Variable([\n",
        "    [\n",
        "        [1, 2, 3],\n",
        "        [4, 5, 7]\n",
        "     ],\n",
        "     [\n",
        "         [10, 20, 30],\n",
        "      [40, 50, 60]\n",
        "     ]\n",
        "])\n",
        "v_three"
      ],
      "metadata": {
        "colab": {
          "base_uri": "https://localhost:8080/"
        },
        "id": "WRbuLGd3obmK",
        "outputId": "80b74a3f-55dc-4f4c-c282-4ed7a2ad2e7a"
      },
      "execution_count": 25,
      "outputs": [
        {
          "output_type": "execute_result",
          "data": {
            "text/plain": [
              "<tf.Variable 'Variable:0' shape=(2, 2, 3) dtype=int32, numpy=\n",
              "array([[[ 1,  2,  3],\n",
              "        [ 4,  5,  7]],\n",
              "\n",
              "       [[10, 20, 30],\n",
              "        [40, 50, 60]]], dtype=int32)>"
            ]
          },
          "metadata": {},
          "execution_count": 25
        }
      ]
    },
    {
      "cell_type": "code",
      "source": [
        "tf.rank(v_three)"
      ],
      "metadata": {
        "colab": {
          "base_uri": "https://localhost:8080/"
        },
        "id": "dSmenX-torwe",
        "outputId": "59a5b6bd-9846-4f09-f8bf-94bb3b9308b7"
      },
      "execution_count": 26,
      "outputs": [
        {
          "output_type": "execute_result",
          "data": {
            "text/plain": [
              "<tf.Tensor: shape=(), dtype=int32, numpy=3>"
            ]
          },
          "metadata": {},
          "execution_count": 26
        }
      ]
    },
    {
      "cell_type": "markdown",
      "source": [
        "## What is the difference between Variable and Constant\n",
        "- We can change the values inside Variable\n",
        "- We cannot change the values inside Constant"
      ],
      "metadata": {
        "id": "IWYa8i3Ioyla"
      }
    },
    {
      "cell_type": "code",
      "source": [
        "new_variable = tf.Variable([10, 20])\n",
        "new_constant = tf.constant([10, 20])\n",
        "new_variable, new_constant"
      ],
      "metadata": {
        "colab": {
          "base_uri": "https://localhost:8080/"
        },
        "id": "qtbjxEVUotcL",
        "outputId": "c3345df0-6963-424a-ff3c-cf0a69349327"
      },
      "execution_count": 27,
      "outputs": [
        {
          "output_type": "execute_result",
          "data": {
            "text/plain": [
              "(<tf.Variable 'Variable:0' shape=(2,) dtype=int32, numpy=array([10, 20], dtype=int32)>,\n",
              " <tf.Tensor: shape=(2,), dtype=int32, numpy=array([10, 20], dtype=int32)>)"
            ]
          },
          "metadata": {},
          "execution_count": 27
        }
      ]
    },
    {
      "cell_type": "code",
      "source": [
        "# Change the value at index 0\n",
        "new_variable[0].assign(11)\n",
        "new_variable"
      ],
      "metadata": {
        "colab": {
          "base_uri": "https://localhost:8080/"
        },
        "id": "7xs-AK7jpKt6",
        "outputId": "12a3d621-fb15-4773-d3a5-5ce869e5436a"
      },
      "execution_count": 29,
      "outputs": [
        {
          "output_type": "execute_result",
          "data": {
            "text/plain": [
              "<tf.Variable 'Variable:0' shape=(2,) dtype=int32, numpy=array([11, 20], dtype=int32)>"
            ]
          },
          "metadata": {},
          "execution_count": 29
        }
      ]
    },
    {
      "cell_type": "code",
      "source": [
        "new_constant[0] = 11"
      ],
      "metadata": {
        "colab": {
          "base_uri": "https://localhost:8080/",
          "height": 169
        },
        "id": "JG6pJiqJpVr_",
        "outputId": "9c2ddf51-8d0d-4d9c-e5de-b0f8f31b9dad"
      },
      "execution_count": 30,
      "outputs": [
        {
          "output_type": "error",
          "ename": "TypeError",
          "evalue": "ignored",
          "traceback": [
            "\u001b[0;31m---------------------------------------------------------------------------\u001b[0m",
            "\u001b[0;31mTypeError\u001b[0m                                 Traceback (most recent call last)",
            "\u001b[0;32m<ipython-input-30-093205d67cf2>\u001b[0m in \u001b[0;36m<module>\u001b[0;34m\u001b[0m\n\u001b[0;32m----> 1\u001b[0;31m \u001b[0mnew_constant\u001b[0m\u001b[0;34m[\u001b[0m\u001b[0;36m0\u001b[0m\u001b[0;34m]\u001b[0m \u001b[0;34m=\u001b[0m \u001b[0;36m11\u001b[0m\u001b[0;34m\u001b[0m\u001b[0;34m\u001b[0m\u001b[0m\n\u001b[0m",
            "\u001b[0;31mTypeError\u001b[0m: 'tensorflow.python.framework.ops.EagerTensor' object does not support item assignment"
          ]
        }
      ]
    },
    {
      "cell_type": "code",
      "source": [
        "new_constant[0].assign(11)"
      ],
      "metadata": {
        "colab": {
          "base_uri": "https://localhost:8080/",
          "height": 294
        },
        "id": "tKkSTl_dpduk",
        "outputId": "3f334f47-f152-4e42-94f8-9d54c772dc12"
      },
      "execution_count": 31,
      "outputs": [
        {
          "output_type": "error",
          "ename": "AttributeError",
          "evalue": "ignored",
          "traceback": [
            "\u001b[0;31m---------------------------------------------------------------------------\u001b[0m",
            "\u001b[0;31mAttributeError\u001b[0m                            Traceback (most recent call last)",
            "\u001b[0;32m<ipython-input-31-aa7a722cc75d>\u001b[0m in \u001b[0;36m<module>\u001b[0;34m\u001b[0m\n\u001b[0;32m----> 1\u001b[0;31m \u001b[0mnew_constant\u001b[0m\u001b[0;34m[\u001b[0m\u001b[0;36m0\u001b[0m\u001b[0;34m]\u001b[0m\u001b[0;34m.\u001b[0m\u001b[0massign\u001b[0m\u001b[0;34m(\u001b[0m\u001b[0;36m11\u001b[0m\u001b[0;34m)\u001b[0m\u001b[0;34m\u001b[0m\u001b[0;34m\u001b[0m\u001b[0m\n\u001b[0m",
            "\u001b[0;32m/usr/local/lib/python3.7/dist-packages/tensorflow/python/framework/ops.py\u001b[0m in \u001b[0;36m__getattr__\u001b[0;34m(self, name)\u001b[0m\n\u001b[1;32m    511\u001b[0m         \u001b[0;32mfrom\u001b[0m \u001b[0mtensorflow\u001b[0m\u001b[0;34m.\u001b[0m\u001b[0mpython\u001b[0m\u001b[0;34m.\u001b[0m\u001b[0mops\u001b[0m\u001b[0;34m.\u001b[0m\u001b[0mnumpy_ops\u001b[0m \u001b[0;32mimport\u001b[0m \u001b[0mnp_config\u001b[0m\u001b[0;34m\u001b[0m\u001b[0;34m\u001b[0m\u001b[0m\n\u001b[1;32m    512\u001b[0m         np_config.enable_numpy_behavior()\"\"\".format(type(self).__name__, name))\n\u001b[0;32m--> 513\u001b[0;31m     \u001b[0mself\u001b[0m\u001b[0;34m.\u001b[0m\u001b[0m__getattribute__\u001b[0m\u001b[0;34m(\u001b[0m\u001b[0mname\u001b[0m\u001b[0;34m)\u001b[0m\u001b[0;34m\u001b[0m\u001b[0;34m\u001b[0m\u001b[0m\n\u001b[0m\u001b[1;32m    514\u001b[0m \u001b[0;34m\u001b[0m\u001b[0m\n\u001b[1;32m    515\u001b[0m   \u001b[0;34m@\u001b[0m\u001b[0mstaticmethod\u001b[0m\u001b[0;34m\u001b[0m\u001b[0;34m\u001b[0m\u001b[0m\n",
            "\u001b[0;31mAttributeError\u001b[0m: 'tensorflow.python.framework.ops.EagerTensor' object has no attribute 'assign'"
          ]
        }
      ]
    },
    {
      "cell_type": "markdown",
      "source": [
        "- You can see that values for Variable tensor can be changed using assign method\n",
        "- Values for constant tensors cannot be changed"
      ],
      "metadata": {
        "id": "O3zy5BGxpjhH"
      }
    }
  ]
}