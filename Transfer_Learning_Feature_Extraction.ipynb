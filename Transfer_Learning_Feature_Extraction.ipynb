{
  "nbformat": 4,
  "nbformat_minor": 0,
  "metadata": {
    "colab": {
      "provenance": []
    },
    "kernelspec": {
      "name": "python3",
      "display_name": "Python 3"
    },
    "language_info": {
      "name": "python"
    },
    "accelerator": "GPU"
  },
  "cells": [
    {
      "cell_type": "markdown",
      "source": [
        "# Transfer Learning - Feature Extraction\n",
        "Transfer learning is leveraging a working model's existing architecture and learned patterns for our own problem.\n",
        "\n",
        "There are two main benefits\n",
        "1. Can leverage an existing neural network architecture proven to work on problems similar to our own.\n",
        "2. Can leverage a working neural network architecture which has already learned patterns on similar data to our own, then we can adapt those patterns to our own data."
      ],
      "metadata": {
        "id": "Qw1jOlnBEy--"
      }
    },
    {
      "cell_type": "markdown",
      "source": [
        "## Downlading and becoming one with data"
      ],
      "metadata": {
        "id": "r3hE2s4eHIAH"
      }
    },
    {
      "cell_type": "code",
      "source": [
        "import zipfile\n",
        "\n",
        "# Download the data\n",
        "!wget https://storage.googleapis.com/ztm_tf_course/food_vision/10_food_classes_10_percent.zip\n",
        "\n",
        "zip_ref = zipfile.ZipFile(\"10_food_classes_10_percent.zip\")\n",
        "zip_ref.extractall()\n",
        "zip_ref.close()"
      ],
      "metadata": {
        "colab": {
          "base_uri": "https://localhost:8080/"
        },
        "id": "4Fp1uUBkHjTz",
        "outputId": "b1179c0e-9036-4dea-992a-a2500dc72daf"
      },
      "execution_count": 1,
      "outputs": [
        {
          "output_type": "stream",
          "name": "stdout",
          "text": [
            "--2022-09-25 14:01:48--  https://storage.googleapis.com/ztm_tf_course/food_vision/10_food_classes_10_percent.zip\n",
            "Resolving storage.googleapis.com (storage.googleapis.com)... 172.253.115.128, 172.253.122.128, 172.217.1.208, ...\n",
            "Connecting to storage.googleapis.com (storage.googleapis.com)|172.253.115.128|:443... connected.\n",
            "HTTP request sent, awaiting response... 200 OK\n",
            "Length: 168546183 (161M) [application/zip]\n",
            "Saving to: ‘10_food_classes_10_percent.zip’\n",
            "\n",
            "10_food_classes_10_ 100%[===================>] 160.74M   218MB/s    in 0.7s    \n",
            "\n",
            "2022-09-25 14:01:48 (218 MB/s) - ‘10_food_classes_10_percent.zip’ saved [168546183/168546183]\n",
            "\n"
          ]
        }
      ]
    },
    {
      "cell_type": "code",
      "source": [
        "# Walk trough the data\n",
        "import os\n",
        "for dirpath, dirnames, filenames in os.walk(\"10_food_classes_10_percent\"):\n",
        "  print(f\"There are {len(dirnames)} directories and {len(filenames)} files in {dirpath}\")"
      ],
      "metadata": {
        "colab": {
          "base_uri": "https://localhost:8080/"
        },
        "id": "GjCEqdoSINg2",
        "outputId": "3c84ae84-0876-491c-fa5f-651aa368d6e4"
      },
      "execution_count": 2,
      "outputs": [
        {
          "output_type": "stream",
          "name": "stdout",
          "text": [
            "There are 2 directories and 0 files in 10_food_classes_10_percent\n",
            "There are 10 directories and 0 files in 10_food_classes_10_percent/train\n",
            "There are 0 directories and 75 files in 10_food_classes_10_percent/train/sushi\n",
            "There are 0 directories and 75 files in 10_food_classes_10_percent/train/pizza\n",
            "There are 0 directories and 75 files in 10_food_classes_10_percent/train/ice_cream\n",
            "There are 0 directories and 75 files in 10_food_classes_10_percent/train/chicken_curry\n",
            "There are 0 directories and 75 files in 10_food_classes_10_percent/train/ramen\n",
            "There are 0 directories and 75 files in 10_food_classes_10_percent/train/hamburger\n",
            "There are 0 directories and 75 files in 10_food_classes_10_percent/train/grilled_salmon\n",
            "There are 0 directories and 75 files in 10_food_classes_10_percent/train/chicken_wings\n",
            "There are 0 directories and 75 files in 10_food_classes_10_percent/train/steak\n",
            "There are 0 directories and 75 files in 10_food_classes_10_percent/train/fried_rice\n",
            "There are 10 directories and 0 files in 10_food_classes_10_percent/test\n",
            "There are 0 directories and 250 files in 10_food_classes_10_percent/test/sushi\n",
            "There are 0 directories and 250 files in 10_food_classes_10_percent/test/pizza\n",
            "There are 0 directories and 250 files in 10_food_classes_10_percent/test/ice_cream\n",
            "There are 0 directories and 250 files in 10_food_classes_10_percent/test/chicken_curry\n",
            "There are 0 directories and 250 files in 10_food_classes_10_percent/test/ramen\n",
            "There are 0 directories and 250 files in 10_food_classes_10_percent/test/hamburger\n",
            "There are 0 directories and 250 files in 10_food_classes_10_percent/test/grilled_salmon\n",
            "There are 0 directories and 250 files in 10_food_classes_10_percent/test/chicken_wings\n",
            "There are 0 directories and 250 files in 10_food_classes_10_percent/test/steak\n",
            "There are 0 directories and 250 files in 10_food_classes_10_percent/test/fried_rice\n"
          ]
        }
      ]
    },
    {
      "cell_type": "markdown",
      "source": [
        "## Preparing the data"
      ],
      "metadata": {
        "id": "R-JX3daFIsrB"
      }
    },
    {
      "cell_type": "code",
      "source": [
        "from tensorflow.keras.preprocessing.image import ImageDataGenerator\n",
        "\n",
        "IMAGE_SHAPE = (224, 224)\n",
        "BATCH_SIZE = 32\n",
        "\n",
        "train_dir = \"10_food_classes_10_percent/train/\"\n",
        "test_dir = \"10_food_classes_10_percent/test/\"\n",
        "\n",
        "train_datagen = ImageDataGenerator(rescale=1/255.)\n",
        "test_datagen = ImageDataGenerator(rescale=1/255.)\n",
        "\n",
        "train_data = train_datagen.flow_from_directory(train_dir,\n",
        "                                              target_size=IMAGE_SHAPE,\n",
        "                                              batch_size=BATCH_SIZE,\n",
        "                                              class_mode=\"categorical\")\n",
        "\n",
        "test_data = test_datagen.flow_from_directory(test_dir,\n",
        "                                             target_size=IMAGE_SHAPE,\n",
        "                                             batch_size=BATCH_SIZE,\n",
        "                                             class_mode=\"categorical\")\n"
      ],
      "metadata": {
        "colab": {
          "base_uri": "https://localhost:8080/"
        },
        "id": "z_4Y_7OpJlTv",
        "outputId": "80ca8010-9b1b-4b05-f153-53cf53ae29df"
      },
      "execution_count": 3,
      "outputs": [
        {
          "output_type": "stream",
          "name": "stdout",
          "text": [
            "Found 750 images belonging to 10 classes.\n",
            "Found 2500 images belonging to 10 classes.\n"
          ]
        }
      ]
    },
    {
      "cell_type": "markdown",
      "source": [
        "## Setting up callbacks (things to run while our model trains)\n",
        "\n",
        "Callbacks are extra functionality you can add to your models to be performed during or after training. Some of the most popular callbacks:\n",
        "\n",
        "- Tracking experiments with the Tensorboard callback\n",
        "- Model checkpoint with the ModelCheckpoint callback\n",
        "- Stopping a model from training (before it trains too long and overfits) with the EarlyStopping callback.\n"
      ],
      "metadata": {
        "id": "fxRhtwWXKsq-"
      }
    },
    {
      "cell_type": "code",
      "source": [
        "# Create tensorboard callback\n",
        "import datetime\n",
        "\n",
        "def create_tensorboard_callback(dir_name, experiment_name):\n",
        "  log_dir = dir_name + \"/\" + experiment_name + \"/\" + datetime.datetime.now().strftime(\"%Y%m%d-%H%M%S\")\n",
        "  tensorboard_callback = tf.keras.callbacks.TensorBoard(log_dir=log_dir)\n",
        "  print(f\"Saving tensorboard log files to {log_dir}\")\n",
        "  return tensorboard_callback"
      ],
      "metadata": {
        "id": "BpTnrv9KMu1m"
      },
      "execution_count": 4,
      "outputs": []
    },
    {
      "cell_type": "markdown",
      "source": [
        "## Creating models using tensorflow hub"
      ],
      "metadata": {
        "id": "7_EdTD2tP-dV"
      }
    },
    {
      "cell_type": "code",
      "source": [
        "resnet_url = \"https://tfhub.dev/google/imagenet/resnet_v2_50/feature_vector/4\"\n",
        "efficientnet_url = \"https://tfhub.dev/tensorflow/efficientnet/b0/feature-vector/1\""
      ],
      "metadata": {
        "id": "eyiEXwRCQQtU"
      },
      "execution_count": 5,
      "outputs": []
    },
    {
      "cell_type": "code",
      "source": [
        "# Import the dependencies\n",
        "import tensorflow as tf\n",
        "import tensorflow_hub as hub\n",
        "from tensorflow.keras import layers"
      ],
      "metadata": {
        "id": "EKTXs1076vYg"
      },
      "execution_count": 6,
      "outputs": []
    },
    {
      "cell_type": "code",
      "source": [
        "def create_model(model_url, num_classes=10):\n",
        "  \"\"\"\n",
        "  Takes a Tensorflow Hub URL and creates a Keras Sequential model with it.\n",
        "\n",
        "  Args:\n",
        "    model_url (str): A Tensorflow Hub feature extraction URL.\n",
        "    num_classes (int): Number of output neuron. This should match the number of \n",
        "      classes we want to predict.\n",
        "  \n",
        "  Returns:\n",
        "    An uncompiled Keras Sequential model with model_url as feature extractor \n",
        "    layer and Dense layer as an output layer\n",
        "  \"\"\"\n",
        "  feature_extractor_layer = hub.KerasLayer(model_url,\n",
        "                                           trainable=False,\n",
        "                                           name=\"feature_extractor_layer\",\n",
        "                                           input_shape=IMAGE_SHAPE + (3,))\n",
        "  # create our own model\n",
        "  model = tf.keras.Sequential([\n",
        "      feature_extractor_layer,\n",
        "      layers.Dense(num_classes, activation=\"softmax\", name=\"output_layer\")\n",
        "  ])\n",
        "  return model"
      ],
      "metadata": {
        "id": "tWZ3c4uu68la"
      },
      "execution_count": 7,
      "outputs": []
    },
    {
      "cell_type": "markdown",
      "source": [
        "## Creating a ResNet model from tensorflow hub"
      ],
      "metadata": {
        "id": "eOhjobom836b"
      }
    },
    {
      "cell_type": "code",
      "source": [
        "resnet_model = create_model(resnet_url, train_data.num_classes)"
      ],
      "metadata": {
        "id": "M_xXXfyI88ON"
      },
      "execution_count": 8,
      "outputs": []
    },
    {
      "cell_type": "code",
      "source": [
        "resnet_model.summary()"
      ],
      "metadata": {
        "colab": {
          "base_uri": "https://localhost:8080/"
        },
        "id": "dJAh_LDc9Unv",
        "outputId": "fe4980d1-de52-4fc5-9f6f-143001f93933"
      },
      "execution_count": 9,
      "outputs": [
        {
          "output_type": "stream",
          "name": "stdout",
          "text": [
            "Model: \"sequential\"\n",
            "_________________________________________________________________\n",
            " Layer (type)                Output Shape              Param #   \n",
            "=================================================================\n",
            " feature_extractor_layer (Ke  (None, 2048)             23564800  \n",
            " rasLayer)                                                       \n",
            "                                                                 \n",
            " output_layer (Dense)        (None, 10)                20490     \n",
            "                                                                 \n",
            "=================================================================\n",
            "Total params: 23,585,290\n",
            "Trainable params: 20,490\n",
            "Non-trainable params: 23,564,800\n",
            "_________________________________________________________________\n"
          ]
        }
      ]
    },
    {
      "cell_type": "code",
      "source": [
        "# Compile \n",
        "resnet_model.compile(loss=\"categorical_crossentropy\",\n",
        "                     optimizer=tf.keras.optimizers.Adam(),\n",
        "                     metrics=[\"accuracy\"])"
      ],
      "metadata": {
        "id": "Ke6QXwZ09hVV"
      },
      "execution_count": 10,
      "outputs": []
    },
    {
      "cell_type": "code",
      "source": [
        "# Fit our model\n",
        "resnet_history = resnet_model.fit(train_data,\n",
        "                                  epochs=5,\n",
        "                                  steps_per_epoch=len(train_data),\n",
        "                                  validation_data=test_data,\n",
        "                                  validation_steps=len(test_data),\n",
        "                                  callbacks=[create_tensorboard_callback(dir_name=\"tensorboard\", experiment_name=\"resnet50V2\")]\n",
        "                                  )"
      ],
      "metadata": {
        "colab": {
          "base_uri": "https://localhost:8080/"
        },
        "id": "b2pSTfCs9wtn",
        "outputId": "1691cf14-422a-4dd7-f302-fcba9c75bdd3"
      },
      "execution_count": 11,
      "outputs": [
        {
          "output_type": "stream",
          "name": "stdout",
          "text": [
            "Saving tensorboard log files to tensorboard/resnet50V2/20220925-140202\n",
            "Epoch 1/5\n",
            "24/24 [==============================] - 37s 853ms/step - loss: 1.8288 - accuracy: 0.3947 - val_loss: 1.1317 - val_accuracy: 0.6524\n",
            "Epoch 2/5\n",
            "24/24 [==============================] - 16s 670ms/step - loss: 0.8915 - accuracy: 0.7240 - val_loss: 0.8359 - val_accuracy: 0.7304\n",
            "Epoch 3/5\n",
            "24/24 [==============================] - 16s 677ms/step - loss: 0.6104 - accuracy: 0.8200 - val_loss: 0.7530 - val_accuracy: 0.7576\n",
            "Epoch 4/5\n",
            "24/24 [==============================] - 19s 818ms/step - loss: 0.4665 - accuracy: 0.8747 - val_loss: 0.7154 - val_accuracy: 0.7648\n",
            "Epoch 5/5\n",
            "24/24 [==============================] - 25s 1s/step - loss: 0.3728 - accuracy: 0.9027 - val_loss: 0.6771 - val_accuracy: 0.7756\n"
          ]
        }
      ]
    },
    {
      "cell_type": "markdown",
      "source": [
        "- This was almost double the validation accuracy with transfer learning and that too with only 10 percent of data"
      ],
      "metadata": {
        "id": "Hyi-4EJyBRsF"
      }
    },
    {
      "cell_type": "code",
      "source": [
        "# Plot loss curves\n",
        "import matplotlib.pyplot as plt\n",
        "\n",
        "def plot_loss_curves(history):\n",
        "  \"\"\"\n",
        "  Takes history model and plot loss curves for training and validation metrics\n",
        "\n",
        "  Args:\n",
        "    history: Tensorflow History Object\n",
        "  \n",
        "  Returns:\n",
        "    Plots of training/validation loss and accuracy metrics.\n",
        "  \"\"\"\n",
        "  loss = history.history[\"loss\"]\n",
        "  val_loss = history.history[\"val_loss\"]\n",
        "\n",
        "  accuracy = history.history[\"accuracy\"]\n",
        "  val_accuracy = history.history[\"val_accuracy\"]\n",
        "\n",
        "  epochs = range(len(history.history[\"loss\"]))\n",
        "\n",
        "  # Plot loss\n",
        "  plt.plot(epochs, loss, label=\"training_loss\")\n",
        "  plt.plot(epochs, val_loss, label=\"val_loss\")\n",
        "  plt.title(\"Loss\")\n",
        "  plt.xlabel(\"Epochs\")\n",
        "  plt.legend()\n",
        "\n",
        "  plt.figure()\n",
        "  plt.plot(epochs, accuracy, label=\"training_accuracy\")\n",
        "  plt.plot(epochs, val_accuracy, label=\"val_accuracy\")\n",
        "  plt.title(\"Accuracy\")\n",
        "  plt.xlabel(\"Epochs\")\n",
        "  plt.legend();"
      ],
      "metadata": {
        "id": "bVK3lDNdCewd"
      },
      "execution_count": 12,
      "outputs": []
    },
    {
      "cell_type": "code",
      "source": [
        "plot_loss_curves(resnet_history)"
      ],
      "metadata": {
        "colab": {
          "base_uri": "https://localhost:8080/",
          "height": 573
        },
        "id": "hOqhf1bAET5S",
        "outputId": "fb7581bd-12ca-41ed-cb2c-ef799995058d"
      },
      "execution_count": 13,
      "outputs": [
        {
          "output_type": "display_data",
          "data": {
            "text/plain": [
              "<Figure size 432x288 with 1 Axes>"
            ],
            "image/png": "[encoded data removed]"
          },
          "metadata": {
            "needs_background": "light"
          }
        },
        {
          "output_type": "display_data",
          "data": {
            "text/plain": [
              "<Figure size 432x288 with 1 Axes>"
            ],
            "image/png": "[encoded data removed]"
          },
          "metadata": {
            "needs_background": "light"
          }
        }
      ]
    },
    {
      "cell_type": "markdown",
      "source": [
        "## Creating and testing efficient net model from tensorflow hub"
      ],
      "metadata": {
        "id": "WBvpznXLEZ4x"
      }
    },
    {
      "cell_type": "code",
      "source": [
        "efficientnet_model = create_model(model_url=efficientnet_url, \n",
        "                                  num_classes=train_data.num_classes)\n",
        "\n",
        "# Compile\n",
        "efficientnet_model.compile(loss=\"categorical_crossentropy\",\n",
        "                           optimizer=tf.keras.optimizers.Adam(),\n",
        "                           metrics=[\"accuracy\"])\n"
      ],
      "metadata": {
        "id": "JmQMv_3RErQd"
      },
      "execution_count": 14,
      "outputs": []
    },
    {
      "cell_type": "code",
      "source": [
        "# Fit model\n",
        "efficientnet_history = efficientnet_model.fit(train_data,\n",
        "                                              epochs=5,\n",
        "                                              steps_per_epoch=len(train_data),\n",
        "                                              validation_data=test_data,\n",
        "                                              validation_steps=len(test_data),\n",
        "                                              callbacks=[create_tensorboard_callback(dir_name=\"tensorboard\", experiment_name=\"efficientnetb0\")])"
      ],
      "metadata": {
        "colab": {
          "base_uri": "https://localhost:8080/"
        },
        "id": "QLdLhAvbFLEK",
        "outputId": "c0071b7a-1ae1-468d-ea54-3ac38a6d7dbe"
      },
      "execution_count": 15,
      "outputs": [
        {
          "output_type": "stream",
          "name": "stdout",
          "text": [
            "Saving tensorboard log files to tensorboard/efficientnetb0/20220925-140407\n",
            "Epoch 1/5\n",
            "24/24 [==============================] - 37s 1s/step - loss: 1.8631 - accuracy: 0.4200 - val_loss: 1.3143 - val_accuracy: 0.7376\n",
            "Epoch 2/5\n",
            "24/24 [==============================] - 17s 741ms/step - loss: 1.0698 - accuracy: 0.7800 - val_loss: 0.8700 - val_accuracy: 0.8208\n",
            "Epoch 3/5\n",
            "24/24 [==============================] - 18s 770ms/step - loss: 0.7623 - accuracy: 0.8440 - val_loss: 0.6977 - val_accuracy: 0.8436\n",
            "Epoch 4/5\n",
            "24/24 [==============================] - 16s 687ms/step - loss: 0.6109 - accuracy: 0.8627 - val_loss: 0.6103 - val_accuracy: 0.8556\n",
            "Epoch 5/5\n",
            "24/24 [==============================] - 15s 639ms/step - loss: 0.5191 - accuracy: 0.9000 - val_loss: 0.5554 - val_accuracy: 0.8632\n"
          ]
        }
      ]
    },
    {
      "cell_type": "code",
      "source": [
        "# Plot loss curves\n",
        "plot_loss_curves(efficientnet_history)"
      ],
      "metadata": {
        "colab": {
          "base_uri": "https://localhost:8080/",
          "height": 573
        },
        "id": "Dy2kOmteFwdn",
        "outputId": "288008b7-48cc-4f00-c612-fb32e8bc4a32"
      },
      "execution_count": 16,
      "outputs": [
        {
          "output_type": "display_data",
          "data": {
            "text/plain": [
              "<Figure size 432x288 with 1 Axes>"
            ],
            "image/png": "[encoded data removed]"
          },
          "metadata": {
            "needs_background": "light"
          }
        },
        {
          "output_type": "display_data",
          "data": {
            "text/plain": [
              "<Figure size 432x288 with 1 Axes>"
            ],
            "image/png": "[encoded data removed]"
          },
          "metadata": {
            "needs_background": "light"
          }
        }
      ]
    },
    {
      "cell_type": "markdown",
      "source": [
        "## Different types of transfer learning\n",
        "- **As is Transfer learning** - The transfer model remains the same (eg. 1000 classes remains as 1000 classes)\n",
        "- **Feature Extraction transfer learning** - The tranfer model remains the same but the output layer changes (1000 classes converts to 10 output)\n",
        "- **Fine Tuning Transfer Learning** - In this, some of the layers may change or may not change. "
      ],
      "metadata": {
        "id": "IR8QTQNLGK85"
      }
    },
    {
      "cell_type": "markdown",
      "source": [
        "## Comparing different types of model with Tensorboard "
      ],
      "metadata": {
        "id": "zrthFL6F90jN"
      }
    },
    {
      "cell_type": "code",
      "source": [
        "!tensorboard dev upload --logdir ./tensorboard/ \\\n",
        "  --name \"Compare EfficientNetB0 vs ResNet50V2\" \\\n",
        "  --description \"Comparing of the loss and accuracy of training data and validation data\" \\\n",
        "  --one_shot"
      ],
      "metadata": {
        "colab": {
          "base_uri": "https://localhost:8080/"
        },
        "id": "eZFfgk2n-A1f",
        "outputId": "285d0b80-17c0-4c54-9b43-c750d8de6ff6"
      },
      "execution_count": 18,
      "outputs": [
        {
          "output_type": "stream",
          "name": "stdout",
          "text": [
            "\n",
            "New experiment created. View your TensorBoard at: https://tensorboard.dev/experiment/6XcOQBdgRhK5vxND9yaw2A/\n",
            "\n",
            "\u001b[1m[2022-09-25T14:15:03]\u001b[0m Started scanning logdir.\n",
            "\u001b[1m[2022-09-25T14:15:05]\u001b[0m Total uploaded: 60 scalars, 0 tensors, 2 binary objects (5.6 MB)\n",
            "\u001b[1m[2022-09-25T14:15:05]\u001b[0m Done scanning logdir.\n",
            "\n",
            "\n",
            "Done. View your TensorBoard at https://tensorboard.dev/experiment/6XcOQBdgRhK5vxND9yaw2A/\n"
          ]
        }
      ]
    },
    {
      "cell_type": "code",
      "source": [
        "!tensorboard dev list"
      ],
      "metadata": {
        "colab": {
          "base_uri": "https://localhost:8080/"
        },
        "id": "sidTHzsJ_sPL",
        "outputId": "5f21803f-43c3-41b4-8089-5312d824dfa7"
      },
      "execution_count": 19,
      "outputs": [
        {
          "output_type": "stream",
          "name": "stdout",
          "text": [
            "https://tensorboard.dev/experiment/6XcOQBdgRhK5vxND9yaw2A/\n",
            "\tName                 Compare EfficientNetB0 vs ResNet50V2\n",
            "\tDescription          Comparing of the loss and accuracy of training data and validation data\n",
            "\tId                   6XcOQBdgRhK5vxND9yaw2A\n",
            "\tCreated              2022-09-25 14:15:03 (1 minute ago)\n",
            "\tUpdated              2022-09-25 14:15:05 (1 minute ago)\n",
            "\tRuns                 4\n",
            "\tTags                 5\n",
            "\tScalars              60\n",
            "\tTensor bytes         0\n",
            "\tBinary object bytes  5915943\n",
            "Total: 1 experiment(s)\n"
          ]
        }
      ]
    },
    {
      "cell_type": "code",
      "source": [
        "# Deleting an experiment\n",
        "# !tensorboard dev delete --experiment_id 6XcOQBdgRhK5vxND9yaw2A"
      ],
      "metadata": {
        "id": "AqttNnR_AUu8"
      },
      "execution_count": null,
      "outputs": []
    }
  ]
}